{
 "cells": [
  {
   "cell_type": "code",
   "execution_count": null,
   "metadata": {},
   "outputs": [],
   "source": [
    "import pandas as pd\n",
    "import numpy as np"
   ]
  },
  {
   "cell_type": "code",
   "execution_count": 6,
   "metadata": {},
   "outputs": [],
   "source": [
    "from sklearn.metrics.pairwise import euclidean_distances\n",
    "def KNN(data,count=3):\n",
    "    m=data.isnull().sum()\n",
    "    mis=[]\n",
    "    cat=[]\n",
    "    for i in range(0,data.shape[1]):\n",
    "        if(m[i]>0):\n",
    "            mis.append(data.columns[i])\n",
    "    data1=data.copy()     \n",
    "    data1.drop(mis,axis=1,inplace=True)\n",
    "    for i in range(0,data1.shape[1]):\n",
    "        if(data1.dtypes[i]=='O'):\n",
    "            data1.iloc[:,i]=data1.iloc[:,i].astype('category')\n",
    "    data1=pd.get_dummies(data1,drop_first=True) \n",
    "    for i in mis:\n",
    "        mi=data[data.loc[:,i].isnull()==True].index\n",
    "        nu=np.arange(0,data.shape[0])\n",
    "        nu=np.delete(nu,mi)\n",
    "        ary = euclidean_distances(data1.iloc[mi,1:], data1.iloc[nu,1:])\n",
    "        ary=pd.DataFrame(ary)\n",
    "        ary.index=mi\n",
    "        ary.columns=nu\n",
    "        n=0\n",
    "        if(data.dtypes[data.columns.get_loc(i)]=='O'):\n",
    "            for j in mi:\n",
    "                cot=ary.iloc[n,:].nsmallest(count)\n",
    "                cot=cot.index\n",
    "                val=data.iloc[cot,data.columns.get_loc(i)]\n",
    "                val=val.mode()\n",
    "                val=pd.DataFrame(val)\n",
    "                val=val.iloc[0,0]\n",
    "                data.iloc[j,data.columns.get_loc(i)]=val\n",
    "                n+1\n",
    "        else:\n",
    "            for j in mi:\n",
    "                cot=ary.iloc[n,:].nsmallest(count)\n",
    "                cot=cot.index\n",
    "                val=data.iloc[cot,data.columns.get_loc(i)]   \n",
    "                val=val.mean()\n",
    "                data.iloc[j,data.columns.get_loc(i)]=val\n",
    "                n+1\n",
    "    return(data)                 "
   ]
  },
  {
   "cell_type": "code",
   "execution_count": 1,
   "metadata": {},
   "outputs": [],
   "source": [
    "def to_cat(data):\n",
    "    ty=data.dtypes\n",
    "    cat=[]\n",
    "    for i in range(0,len(data.columns)):\n",
    "        if(ty[i]=='object'):\n",
    "            data.iloc[:,i]=data.iloc[:,i].astype('category')\n",
    "    return(data)"
   ]
  },
  {
   "cell_type": "code",
   "execution_count": 2,
   "metadata": {},
   "outputs": [],
   "source": [
    "def to_dummy(data):\n",
    "    ty=data.dtypes\n",
    "    cat=[]\n",
    "    for i in range(0,len(data.columns)):\n",
    "        if(ty[i]=='object'):\n",
    "            data.iloc[:,i]=data.iloc[:,i].astype('category')\n",
    "    data=pd.get_dummies(data,drop_first=True)\n",
    "    return(data)"
   ]
  },
  {
   "cell_type": "code",
   "execution_count": 3,
   "metadata": {},
   "outputs": [],
   "source": [
    "def same_col(train,test):\n",
    "    train_c=train.columns\n",
    "    test_c=test.columns\n",
    "    for i in range(0,train.shape[1]):\n",
    "        flag=0\n",
    "        for j in range(0,test.shape[1]):\n",
    "            if(train_c[i]==test_c[j]):\n",
    "                flag=1\n",
    "        if(flag==0):\n",
    "            train=train.drop([train_c[i]],axis=1)\n",
    "    return(train)       "
   ]
  }
 ],
 "metadata": {
  "kernelspec": {
   "display_name": "Python 3",
   "language": "python",
   "name": "python3"
  },
  "language_info": {
   "codemirror_mode": {
    "name": "ipython",
    "version": 3
   },
   "file_extension": ".py",
   "mimetype": "text/x-python",
   "name": "python",
   "nbconvert_exporter": "python",
   "pygments_lexer": "ipython3",
   "version": "3.6.8"
  }
 },
 "nbformat": 4,
 "nbformat_minor": 2
}
