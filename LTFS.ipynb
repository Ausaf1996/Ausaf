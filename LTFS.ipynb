{
 "cells": [
  {
   "cell_type": "code",
   "execution_count": 1,
   "metadata": {},
   "outputs": [],
   "source": [
    "#importing libraries\n",
    "import pandas as pd\n",
    "import numpy as np\n",
    "import matplotlib.pyplot as plt\n",
    "import scipy\n"
   ]
  },
  {
   "cell_type": "code",
   "execution_count": 2,
   "metadata": {},
   "outputs": [],
   "source": [
    "import datetime as dt"
   ]
  },
  {
   "cell_type": "code",
   "execution_count": 3,
   "metadata": {},
   "outputs": [],
   "source": [
    "loan=pd.read_csv('c:/Users/LENOVO/My Documents/data sets/LTFS/train_c.csv')\n",
    "sample=pd.read_csv('c:/Users/LENOVO/My Documents/data sets/LTFS/sample_submission.csv')\n",
    "test=pd.read_csv('c:/Users/LENOVO/My Documents/data sets/LTFS/test.csv')"
   ]
  },
  {
   "cell_type": "code",
   "execution_count": 38,
   "metadata": {},
   "outputs": [],
   "source": [
    "#loan['AVERAGE.ACCT.AGE'].str.extract('(\\d)')"
   ]
  },
  {
   "cell_type": "code",
   "execution_count": 187,
   "metadata": {},
   "outputs": [],
   "source": [
    "#splitting\n",
    "sp=loan['AVERAGE.ACCT.AGE'].str.split('yrs',n=1,expand=True)\n",
    "#calculating days in years\n",
    "sp_yr=sp.iloc[:,0]\n",
    "sp_yr=sp_yr.astype('int64')\n",
    "sp_yr=sp_yr*365.25\n",
    "sp_yr=sp_yr.astype('int64')\n",
    "#calculating days in months\n",
    "sp_mon=sp.iloc[:,1].str.split('mon',n=1,expand=True).iloc[:,0]\n",
    "sp_mon=sp_mon.astype('int64')\n",
    "sp_mon=sp_mon*30.5\n",
    "sp_mon=sp_mon.astype('int64')\n",
    "#summing\n",
    "mod=sp_yr+sp_mon\n",
    "#replacing\n",
    "loan['AVERAGE.ACCT.AGE']=mod"
   ]
  },
  {
   "cell_type": "code",
   "execution_count": 188,
   "metadata": {},
   "outputs": [],
   "source": [
    "#splitting\n",
    "sp=loan['CREDIT.HISTORY.LENGTH'].str.split('yrs',n=1,expand=True)\n",
    "#calculating days in years\n",
    "sp_yr=sp.iloc[:,0]\n",
    "sp_yr=sp_yr.astype('int64')\n",
    "sp_yr=sp_yr*365.25\n",
    "sp_yr=sp_yr.astype('int64')\n",
    "#calculating days in months\n",
    "sp_mon=sp.iloc[:,1].str.split('mon',n=1,expand=True).iloc[:,0]\n",
    "sp_mon=sp_mon.astype('int64')\n",
    "sp_mon=sp_mon*30.5\n",
    "sp_mon=sp_mon.astype('int64')\n",
    "#summing\n",
    "mod=sp_yr+sp_mon\n",
    "#replacing\n",
    "loan['CREDIT.HISTORY.LENGTH']=mod"
   ]
  },
  {
   "cell_type": "code",
   "execution_count": 189,
   "metadata": {},
   "outputs": [],
   "source": [
    "loan['Date.of.Birth']=pd.to_datetime(loan['Date.of.Birth'])\n",
    "loan['DisbursalDate']=pd.to_datetime(loan['DisbursalDate'])\n",
    "ch=loan['DisbursalDate']-loan['Date.of.Birth']\n",
    "ch=ch/dt.timedelta(days=365)   \n",
    "loan.insert(7,'Age',ch)\n",
    "loan['Age']=abs(loan['Age'])"
   ]
  },
  {
   "cell_type": "code",
   "execution_count": 191,
   "metadata": {},
   "outputs": [
    {
     "data": {
      "text/plain": [
       "Index(['UniqueID', 'disbursed_amount', 'asset_cost', 'ltv', 'branch_id',\n",
       "       'supplier_id', 'manufacturer_id', 'Age', 'Current_pincode_ID',\n",
       "       'Date.of.Birth', 'Employment.Type', 'DisbursalDate', 'State_ID',\n",
       "       'Employee_code_ID', 'MobileNo_Avl_Flag', 'Aadhar_flag', 'PAN_flag',\n",
       "       'VoterID_flag', 'Driving_flag', 'Passport_flag', 'PERFORM_CNS.SCORE',\n",
       "       'PERFORM_CNS.SCORE.DESCRIPTION', 'PRI.NO.OF.ACCTS', 'PRI.ACTIVE.ACCTS',\n",
       "       'PRI.OVERDUE.ACCTS', 'PRI.CURRENT.BALANCE', 'PRI.SANCTIONED.AMOUNT',\n",
       "       'PRI.DISBURSED.AMOUNT', 'SEC.NO.OF.ACCTS', 'SEC.ACTIVE.ACCTS',\n",
       "       'SEC.OVERDUE.ACCTS', 'SEC.CURRENT.BALANCE', 'SEC.SANCTIONED.AMOUNT',\n",
       "       'SEC.DISBURSED.AMOUNT', 'PRIMARY.INSTAL.AMT', 'SEC.INSTAL.AMT',\n",
       "       'NEW.ACCTS.IN.LAST.SIX.MONTHS', 'DELINQUENT.ACCTS.IN.LAST.SIX.MONTHS',\n",
       "       'AVERAGE.ACCT.AGE', 'CREDIT.HISTORY.LENGTH', 'NO.OF_INQUIRIES',\n",
       "       'loan_default'],\n",
       "      dtype='object')"
      ]
     },
     "execution_count": 191,
     "metadata": {},
     "output_type": "execute_result"
    }
   ],
   "source": [
    "loan.columns"
   ]
  },
  {
   "cell_type": "code",
   "execution_count": 192,
   "metadata": {},
   "outputs": [],
   "source": [
    "loan.drop(['UniqueID','Date.of.Birth','DisbursalDate','MobileNo_Avl_Flag'],axis=1,inplace=True)"
   ]
  },
  {
   "cell_type": "code",
   "execution_count": 11,
   "metadata": {},
   "outputs": [],
   "source": [
    "def KNN(data,count=3):\n",
    "    from sklearn.metrics.pairwise import euclidean_distances\n",
    "    m=data.isnull().sum()\n",
    "    mis=[]\n",
    "    data1=data.copy()\n",
    "    for i in range(0,data.shape[1]):\n",
    "        if(m[i]>0):\n",
    "            mis.append(data.columns[i]) \n",
    "        if(len(data.iloc[:,i].value_counts())>50 and data.dtypes[i]==\"O\"):\n",
    "            data1.drop(data.columns[i],axis=1,inplace=True)\n",
    "        if(len(data.iloc[:,i].value_counts())<2):\n",
    "            data1.drop(data.columns[i],axis=1,inplace=True)\n",
    "    data1.drop(mis,axis=1,inplace=True)  \n",
    "    print('Number of columns removed for processing is',len(data.columns)-len(data1.columns))\n",
    "    for i in range(0,data1.shape[1]):\n",
    "        if(data1.dtypes[i]=='O'):\n",
    "            data1.iloc[:,i]=data1.iloc[:,i].astype('category')\n",
    "    data1=pd.get_dummies(data1,drop_first=True) \n",
    "    for i in range(data1.shape[1]):\n",
    "        data1.iloc[:,i]=(data1.iloc[:,i]-min(data1.iloc[:,i]))/(max(data1.iloc[:,i])-min(data1.iloc[:,i]))  \n",
    "    for i in mis:\n",
    "        mi=data[data.loc[:,i].isnull()==True].index\n",
    "        nu=data[data.loc[:,i].isnull()==False].index\n",
    "        ary = euclidean_distances(data1.loc[mi,:], data1.loc[nu,:])\n",
    "        ary=pd.DataFrame(ary)\n",
    "        ary.index=mi\n",
    "        ary.columns=nu\n",
    "        n=0\n",
    "        if(data.dtypes[data.columns.get_loc(i)]=='O'):\n",
    "            for j in mi:\n",
    "                cot=ary.loc[j,:].nsmallest(count)\n",
    "                cot=cot.index\n",
    "                val=data.loc[cot,i]\n",
    "                val=val.mode()\n",
    "                val=pd.DataFrame(val)\n",
    "                val=val.iloc[0,0]\n",
    "                data.loc[j,i]=val\n",
    "        else:\n",
    "            for j in mi:\n",
    "                cot=ary.loc[j,:].nsmallest(count)\n",
    "                cot=cot.index\n",
    "                val=data.loc[cot,i]   \n",
    "                val=val.mean()\n",
    "                data.loc[j,i]=val\n",
    "    return(data)  "
   ]
  },
  {
   "cell_type": "code",
   "execution_count": 195,
   "metadata": {},
   "outputs": [
    {
     "name": "stdout",
     "output_type": "stream",
     "text": [
      "0.0\n",
      "Number of columns removed for processing is 2\n"
     ]
    },
    {
     "name": "stderr",
     "output_type": "stream",
     "text": [
      "C:\\Users\\LENOVO\\Anaconda3\\lib\\site-packages\\pandas\\core\\indexing.py:543: SettingWithCopyWarning: \n",
      "A value is trying to be set on a copy of a slice from a DataFrame.\n",
      "Try using .loc[row_indexer,col_indexer] = value instead\n",
      "\n",
      "See the caveats in the documentation: http://pandas.pydata.org/pandas-docs/stable/indexing.html#indexing-view-versus-copy\n",
      "  self.obj[item] = s\n"
     ]
    },
    {
     "name": "stdout",
     "output_type": "stream",
     "text": [
      "1.0\n",
      "Number of columns removed for processing is 2\n"
     ]
    },
    {
     "name": "stderr",
     "output_type": "stream",
     "text": [
      "C:\\Users\\LENOVO\\Anaconda3\\lib\\site-packages\\pandas\\core\\indexing.py:543: SettingWithCopyWarning: \n",
      "A value is trying to be set on a copy of a slice from a DataFrame.\n",
      "Try using .loc[row_indexer,col_indexer] = value instead\n",
      "\n",
      "See the caveats in the documentation: http://pandas.pydata.org/pandas-docs/stable/indexing.html#indexing-view-versus-copy\n",
      "  self.obj[item] = s\n"
     ]
    },
    {
     "name": "stdout",
     "output_type": "stream",
     "text": [
      "2.0\n",
      "Number of columns removed for processing is 2\n"
     ]
    },
    {
     "name": "stderr",
     "output_type": "stream",
     "text": [
      "C:\\Users\\LENOVO\\Anaconda3\\lib\\site-packages\\pandas\\core\\indexing.py:543: SettingWithCopyWarning: \n",
      "A value is trying to be set on a copy of a slice from a DataFrame.\n",
      "Try using .loc[row_indexer,col_indexer] = value instead\n",
      "\n",
      "See the caveats in the documentation: http://pandas.pydata.org/pandas-docs/stable/indexing.html#indexing-view-versus-copy\n",
      "  self.obj[item] = s\n"
     ]
    },
    {
     "name": "stdout",
     "output_type": "stream",
     "text": [
      "3.0\n",
      "Number of columns removed for processing is 2\n"
     ]
    },
    {
     "name": "stderr",
     "output_type": "stream",
     "text": [
      "C:\\Users\\LENOVO\\Anaconda3\\lib\\site-packages\\pandas\\core\\indexing.py:543: SettingWithCopyWarning: \n",
      "A value is trying to be set on a copy of a slice from a DataFrame.\n",
      "Try using .loc[row_indexer,col_indexer] = value instead\n",
      "\n",
      "See the caveats in the documentation: http://pandas.pydata.org/pandas-docs/stable/indexing.html#indexing-view-versus-copy\n",
      "  self.obj[item] = s\n"
     ]
    },
    {
     "name": "stdout",
     "output_type": "stream",
     "text": [
      "4.0\n",
      "Number of columns removed for processing is 2\n"
     ]
    },
    {
     "name": "stderr",
     "output_type": "stream",
     "text": [
      "C:\\Users\\LENOVO\\Anaconda3\\lib\\site-packages\\pandas\\core\\indexing.py:543: SettingWithCopyWarning: \n",
      "A value is trying to be set on a copy of a slice from a DataFrame.\n",
      "Try using .loc[row_indexer,col_indexer] = value instead\n",
      "\n",
      "See the caveats in the documentation: http://pandas.pydata.org/pandas-docs/stable/indexing.html#indexing-view-versus-copy\n",
      "  self.obj[item] = s\n"
     ]
    },
    {
     "name": "stdout",
     "output_type": "stream",
     "text": [
      "5.0\n",
      "Number of columns removed for processing is 2\n"
     ]
    },
    {
     "name": "stderr",
     "output_type": "stream",
     "text": [
      "C:\\Users\\LENOVO\\Anaconda3\\lib\\site-packages\\pandas\\core\\indexing.py:543: SettingWithCopyWarning: \n",
      "A value is trying to be set on a copy of a slice from a DataFrame.\n",
      "Try using .loc[row_indexer,col_indexer] = value instead\n",
      "\n",
      "See the caveats in the documentation: http://pandas.pydata.org/pandas-docs/stable/indexing.html#indexing-view-versus-copy\n",
      "  self.obj[item] = s\n"
     ]
    },
    {
     "name": "stdout",
     "output_type": "stream",
     "text": [
      "6.0\n",
      "Number of columns removed for processing is 2\n"
     ]
    },
    {
     "name": "stderr",
     "output_type": "stream",
     "text": [
      "C:\\Users\\LENOVO\\Anaconda3\\lib\\site-packages\\pandas\\core\\indexing.py:543: SettingWithCopyWarning: \n",
      "A value is trying to be set on a copy of a slice from a DataFrame.\n",
      "Try using .loc[row_indexer,col_indexer] = value instead\n",
      "\n",
      "See the caveats in the documentation: http://pandas.pydata.org/pandas-docs/stable/indexing.html#indexing-view-versus-copy\n",
      "  self.obj[item] = s\n"
     ]
    },
    {
     "name": "stdout",
     "output_type": "stream",
     "text": [
      "7.0\n",
      "Number of columns removed for processing is 2\n"
     ]
    },
    {
     "name": "stderr",
     "output_type": "stream",
     "text": [
      "C:\\Users\\LENOVO\\Anaconda3\\lib\\site-packages\\pandas\\core\\indexing.py:543: SettingWithCopyWarning: \n",
      "A value is trying to be set on a copy of a slice from a DataFrame.\n",
      "Try using .loc[row_indexer,col_indexer] = value instead\n",
      "\n",
      "See the caveats in the documentation: http://pandas.pydata.org/pandas-docs/stable/indexing.html#indexing-view-versus-copy\n",
      "  self.obj[item] = s\n"
     ]
    },
    {
     "name": "stdout",
     "output_type": "stream",
     "text": [
      "8.0\n",
      "Number of columns removed for processing is 2\n"
     ]
    },
    {
     "name": "stderr",
     "output_type": "stream",
     "text": [
      "C:\\Users\\LENOVO\\Anaconda3\\lib\\site-packages\\pandas\\core\\indexing.py:543: SettingWithCopyWarning: \n",
      "A value is trying to be set on a copy of a slice from a DataFrame.\n",
      "Try using .loc[row_indexer,col_indexer] = value instead\n",
      "\n",
      "See the caveats in the documentation: http://pandas.pydata.org/pandas-docs/stable/indexing.html#indexing-view-versus-copy\n",
      "  self.obj[item] = s\n"
     ]
    },
    {
     "name": "stdout",
     "output_type": "stream",
     "text": [
      "9.0\n",
      "Number of columns removed for processing is 2\n"
     ]
    },
    {
     "name": "stderr",
     "output_type": "stream",
     "text": [
      "C:\\Users\\LENOVO\\Anaconda3\\lib\\site-packages\\pandas\\core\\indexing.py:543: SettingWithCopyWarning: \n",
      "A value is trying to be set on a copy of a slice from a DataFrame.\n",
      "Try using .loc[row_indexer,col_indexer] = value instead\n",
      "\n",
      "See the caveats in the documentation: http://pandas.pydata.org/pandas-docs/stable/indexing.html#indexing-view-versus-copy\n",
      "  self.obj[item] = s\n"
     ]
    },
    {
     "name": "stdout",
     "output_type": "stream",
     "text": [
      "10.0\n",
      "Number of columns removed for processing is 2\n"
     ]
    },
    {
     "name": "stderr",
     "output_type": "stream",
     "text": [
      "C:\\Users\\LENOVO\\Anaconda3\\lib\\site-packages\\pandas\\core\\indexing.py:543: SettingWithCopyWarning: \n",
      "A value is trying to be set on a copy of a slice from a DataFrame.\n",
      "Try using .loc[row_indexer,col_indexer] = value instead\n",
      "\n",
      "See the caveats in the documentation: http://pandas.pydata.org/pandas-docs/stable/indexing.html#indexing-view-versus-copy\n",
      "  self.obj[item] = s\n"
     ]
    },
    {
     "name": "stdout",
     "output_type": "stream",
     "text": [
      "11.0\n",
      "Number of columns removed for processing is 2\n"
     ]
    },
    {
     "name": "stderr",
     "output_type": "stream",
     "text": [
      "C:\\Users\\LENOVO\\Anaconda3\\lib\\site-packages\\pandas\\core\\indexing.py:543: SettingWithCopyWarning: \n",
      "A value is trying to be set on a copy of a slice from a DataFrame.\n",
      "Try using .loc[row_indexer,col_indexer] = value instead\n",
      "\n",
      "See the caveats in the documentation: http://pandas.pydata.org/pandas-docs/stable/indexing.html#indexing-view-versus-copy\n",
      "  self.obj[item] = s\n"
     ]
    },
    {
     "name": "stdout",
     "output_type": "stream",
     "text": [
      "12.0\n",
      "Number of columns removed for processing is 2\n"
     ]
    },
    {
     "name": "stderr",
     "output_type": "stream",
     "text": [
      "C:\\Users\\LENOVO\\Anaconda3\\lib\\site-packages\\pandas\\core\\indexing.py:543: SettingWithCopyWarning: \n",
      "A value is trying to be set on a copy of a slice from a DataFrame.\n",
      "Try using .loc[row_indexer,col_indexer] = value instead\n",
      "\n",
      "See the caveats in the documentation: http://pandas.pydata.org/pandas-docs/stable/indexing.html#indexing-view-versus-copy\n",
      "  self.obj[item] = s\n"
     ]
    },
    {
     "name": "stdout",
     "output_type": "stream",
     "text": [
      "13.0\n",
      "Number of columns removed for processing is 2\n"
     ]
    },
    {
     "name": "stderr",
     "output_type": "stream",
     "text": [
      "C:\\Users\\LENOVO\\Anaconda3\\lib\\site-packages\\pandas\\core\\indexing.py:543: SettingWithCopyWarning: \n",
      "A value is trying to be set on a copy of a slice from a DataFrame.\n",
      "Try using .loc[row_indexer,col_indexer] = value instead\n",
      "\n",
      "See the caveats in the documentation: http://pandas.pydata.org/pandas-docs/stable/indexing.html#indexing-view-versus-copy\n",
      "  self.obj[item] = s\n"
     ]
    },
    {
     "name": "stdout",
     "output_type": "stream",
     "text": [
      "14.0\n",
      "Number of columns removed for processing is 2\n"
     ]
    },
    {
     "name": "stderr",
     "output_type": "stream",
     "text": [
      "C:\\Users\\LENOVO\\Anaconda3\\lib\\site-packages\\pandas\\core\\indexing.py:543: SettingWithCopyWarning: \n",
      "A value is trying to be set on a copy of a slice from a DataFrame.\n",
      "Try using .loc[row_indexer,col_indexer] = value instead\n",
      "\n",
      "See the caveats in the documentation: http://pandas.pydata.org/pandas-docs/stable/indexing.html#indexing-view-versus-copy\n",
      "  self.obj[item] = s\n"
     ]
    },
    {
     "name": "stdout",
     "output_type": "stream",
     "text": [
      "15.0\n",
      "Number of columns removed for processing is 2\n"
     ]
    },
    {
     "name": "stderr",
     "output_type": "stream",
     "text": [
      "C:\\Users\\LENOVO\\Anaconda3\\lib\\site-packages\\pandas\\core\\indexing.py:543: SettingWithCopyWarning: \n",
      "A value is trying to be set on a copy of a slice from a DataFrame.\n",
      "Try using .loc[row_indexer,col_indexer] = value instead\n",
      "\n",
      "See the caveats in the documentation: http://pandas.pydata.org/pandas-docs/stable/indexing.html#indexing-view-versus-copy\n",
      "  self.obj[item] = s\n"
     ]
    },
    {
     "name": "stdout",
     "output_type": "stream",
     "text": [
      "16.0\n",
      "Number of columns removed for processing is 2\n"
     ]
    },
    {
     "name": "stderr",
     "output_type": "stream",
     "text": [
      "C:\\Users\\LENOVO\\Anaconda3\\lib\\site-packages\\pandas\\core\\indexing.py:543: SettingWithCopyWarning: \n",
      "A value is trying to be set on a copy of a slice from a DataFrame.\n",
      "Try using .loc[row_indexer,col_indexer] = value instead\n",
      "\n",
      "See the caveats in the documentation: http://pandas.pydata.org/pandas-docs/stable/indexing.html#indexing-view-versus-copy\n",
      "  self.obj[item] = s\n"
     ]
    },
    {
     "name": "stdout",
     "output_type": "stream",
     "text": [
      "17.0\n",
      "Number of columns removed for processing is 2\n"
     ]
    },
    {
     "name": "stderr",
     "output_type": "stream",
     "text": [
      "C:\\Users\\LENOVO\\Anaconda3\\lib\\site-packages\\pandas\\core\\indexing.py:543: SettingWithCopyWarning: \n",
      "A value is trying to be set on a copy of a slice from a DataFrame.\n",
      "Try using .loc[row_indexer,col_indexer] = value instead\n",
      "\n",
      "See the caveats in the documentation: http://pandas.pydata.org/pandas-docs/stable/indexing.html#indexing-view-versus-copy\n",
      "  self.obj[item] = s\n"
     ]
    },
    {
     "name": "stdout",
     "output_type": "stream",
     "text": [
      "18.0\n",
      "Number of columns removed for processing is 2\n"
     ]
    },
    {
     "name": "stderr",
     "output_type": "stream",
     "text": [
      "C:\\Users\\LENOVO\\Anaconda3\\lib\\site-packages\\pandas\\core\\indexing.py:543: SettingWithCopyWarning: \n",
      "A value is trying to be set on a copy of a slice from a DataFrame.\n",
      "Try using .loc[row_indexer,col_indexer] = value instead\n",
      "\n",
      "See the caveats in the documentation: http://pandas.pydata.org/pandas-docs/stable/indexing.html#indexing-view-versus-copy\n",
      "  self.obj[item] = s\n"
     ]
    },
    {
     "name": "stdout",
     "output_type": "stream",
     "text": [
      "19.0\n",
      "Number of columns removed for processing is 2\n"
     ]
    },
    {
     "name": "stderr",
     "output_type": "stream",
     "text": [
      "C:\\Users\\LENOVO\\Anaconda3\\lib\\site-packages\\pandas\\core\\indexing.py:543: SettingWithCopyWarning: \n",
      "A value is trying to be set on a copy of a slice from a DataFrame.\n",
      "Try using .loc[row_indexer,col_indexer] = value instead\n",
      "\n",
      "See the caveats in the documentation: http://pandas.pydata.org/pandas-docs/stable/indexing.html#indexing-view-versus-copy\n",
      "  self.obj[item] = s\n"
     ]
    },
    {
     "name": "stdout",
     "output_type": "stream",
     "text": [
      "20.0\n",
      "Number of columns removed for processing is 2\n"
     ]
    },
    {
     "name": "stderr",
     "output_type": "stream",
     "text": [
      "C:\\Users\\LENOVO\\Anaconda3\\lib\\site-packages\\pandas\\core\\indexing.py:543: SettingWithCopyWarning: \n",
      "A value is trying to be set on a copy of a slice from a DataFrame.\n",
      "Try using .loc[row_indexer,col_indexer] = value instead\n",
      "\n",
      "See the caveats in the documentation: http://pandas.pydata.org/pandas-docs/stable/indexing.html#indexing-view-versus-copy\n",
      "  self.obj[item] = s\n"
     ]
    },
    {
     "name": "stdout",
     "output_type": "stream",
     "text": [
      "21.0\n",
      "Number of columns removed for processing is 2\n"
     ]
    },
    {
     "name": "stderr",
     "output_type": "stream",
     "text": [
      "C:\\Users\\LENOVO\\Anaconda3\\lib\\site-packages\\pandas\\core\\indexing.py:543: SettingWithCopyWarning: \n",
      "A value is trying to be set on a copy of a slice from a DataFrame.\n",
      "Try using .loc[row_indexer,col_indexer] = value instead\n",
      "\n",
      "See the caveats in the documentation: http://pandas.pydata.org/pandas-docs/stable/indexing.html#indexing-view-versus-copy\n",
      "  self.obj[item] = s\n"
     ]
    },
    {
     "name": "stdout",
     "output_type": "stream",
     "text": [
      "22.0\n",
      "Number of columns removed for processing is 2\n"
     ]
    },
    {
     "name": "stderr",
     "output_type": "stream",
     "text": [
      "C:\\Users\\LENOVO\\Anaconda3\\lib\\site-packages\\pandas\\core\\indexing.py:543: SettingWithCopyWarning: \n",
      "A value is trying to be set on a copy of a slice from a DataFrame.\n",
      "Try using .loc[row_indexer,col_indexer] = value instead\n",
      "\n",
      "See the caveats in the documentation: http://pandas.pydata.org/pandas-docs/stable/indexing.html#indexing-view-versus-copy\n",
      "  self.obj[item] = s\n"
     ]
    }
   ],
   "source": [
    "data=[]\n",
    "data=pd.DataFrame(data)\n",
    "for i in range(0,230000,10000):\n",
    "    print(i/10000)\n",
    "    data1=KNN(loan.iloc[i:i+10000,:],3)\n",
    "    data=pd.concat([data,data1],axis=0)"
   ]
  },
  {
   "cell_type": "code",
   "execution_count": 196,
   "metadata": {},
   "outputs": [
    {
     "name": "stdout",
     "output_type": "stream",
     "text": [
      "Number of columns removed for processing is 2\n"
     ]
    },
    {
     "name": "stderr",
     "output_type": "stream",
     "text": [
      "C:\\Users\\LENOVO\\Anaconda3\\lib\\site-packages\\pandas\\core\\indexing.py:543: SettingWithCopyWarning: \n",
      "A value is trying to be set on a copy of a slice from a DataFrame.\n",
      "Try using .loc[row_indexer,col_indexer] = value instead\n",
      "\n",
      "See the caveats in the documentation: http://pandas.pydata.org/pandas-docs/stable/indexing.html#indexing-view-versus-copy\n",
      "  self.obj[item] = s\n"
     ]
    }
   ],
   "source": [
    "data1=KNN(loan.iloc[230000:233154],3)"
   ]
  },
  {
   "cell_type": "code",
   "execution_count": 197,
   "metadata": {},
   "outputs": [],
   "source": [
    "data=pd.concat([data,data1],axis=0)"
   ]
  },
  {
   "cell_type": "code",
   "execution_count": 198,
   "metadata": {},
   "outputs": [
    {
     "data": {
      "text/plain": [
       "(233154, 39)"
      ]
     },
     "execution_count": 198,
     "metadata": {},
     "output_type": "execute_result"
    }
   ],
   "source": [
    "data.shape"
   ]
  },
  {
   "cell_type": "code",
   "execution_count": 23,
   "metadata": {},
   "outputs": [],
   "source": [
    "data.to_csv('loan')"
   ]
  },
  {
   "cell_type": "code",
   "execution_count": null,
   "metadata": {},
   "outputs": [],
   "source": [
    "loan=data"
   ]
  },
  {
   "cell_type": "code",
   "execution_count": 3,
   "metadata": {},
   "outputs": [
    {
     "data": {
      "text/plain": [
       "Index(['disbursed_amount', 'asset_cost', 'ltv', 'branch_id', 'supplier_id',\n",
       "       'manufacturer_id', 'Age', 'Current_pincode_ID', 'State_ID',\n",
       "       'Employee_code_ID', 'Aadhar_flag', 'PAN_flag', 'VoterID_flag',\n",
       "       'Driving_flag', 'Passport_flag', 'PERFORM_CNS.SCORE', 'PRI.NO.OF.ACCTS',\n",
       "       'PRI.ACTIVE.ACCTS', 'PRI.OVERDUE.ACCTS', 'PRI.CURRENT.BALANCE',\n",
       "       'PRI.SANCTIONED.AMOUNT', 'PRI.DISBURSED.AMOUNT', 'SEC.NO.OF.ACCTS',\n",
       "       'SEC.ACTIVE.ACCTS', 'SEC.OVERDUE.ACCTS', 'SEC.CURRENT.BALANCE',\n",
       "       'SEC.SANCTIONED.AMOUNT', 'SEC.DISBURSED.AMOUNT', 'PRIMARY.INSTAL.AMT',\n",
       "       'SEC.INSTAL.AMT', 'NEW.ACCTS.IN.LAST.SIX.MONTHS',\n",
       "       'DELINQUENT.ACCTS.IN.LAST.SIX.MONTHS', 'AVERAGE.ACCT.AGE',\n",
       "       'CREDIT.HISTORY.LENGTH', 'NO.OF_INQUIRIES', 'loan_default',\n",
       "       'Employment.Type_Self employed',\n",
       "       'PERFORM_CNS.SCORE.DESCRIPTION_B-Very Low Risk',\n",
       "       'PERFORM_CNS.SCORE.DESCRIPTION_C-Very Low Risk',\n",
       "       'PERFORM_CNS.SCORE.DESCRIPTION_D-Very Low Risk',\n",
       "       'PERFORM_CNS.SCORE.DESCRIPTION_E-Low Risk',\n",
       "       'PERFORM_CNS.SCORE.DESCRIPTION_F-Low Risk',\n",
       "       'PERFORM_CNS.SCORE.DESCRIPTION_G-Low Risk',\n",
       "       'PERFORM_CNS.SCORE.DESCRIPTION_H-Medium Risk',\n",
       "       'PERFORM_CNS.SCORE.DESCRIPTION_I-Medium Risk',\n",
       "       'PERFORM_CNS.SCORE.DESCRIPTION_J-High Risk',\n",
       "       'PERFORM_CNS.SCORE.DESCRIPTION_K-High Risk',\n",
       "       'PERFORM_CNS.SCORE.DESCRIPTION_L-Very High Risk',\n",
       "       'PERFORM_CNS.SCORE.DESCRIPTION_M-Very High Risk',\n",
       "       'PERFORM_CNS.SCORE.DESCRIPTION_No Bureau History Available',\n",
       "       'PERFORM_CNS.SCORE.DESCRIPTION_Not Scored: More than 50 active Accounts found',\n",
       "       'PERFORM_CNS.SCORE.DESCRIPTION_Not Scored: No Activity seen on the customer (Inactive)',\n",
       "       'PERFORM_CNS.SCORE.DESCRIPTION_Not Scored: No Updates available in last 36 months',\n",
       "       'PERFORM_CNS.SCORE.DESCRIPTION_Not Scored: Not Enough Info available on the customer',\n",
       "       'PERFORM_CNS.SCORE.DESCRIPTION_Not Scored: Only a Guarantor',\n",
       "       'PERFORM_CNS.SCORE.DESCRIPTION_Not Scored: Sufficient History Not Available'],\n",
       "      dtype='object')"
      ]
     },
     "execution_count": 3,
     "metadata": {},
     "output_type": "execute_result"
    }
   ],
   "source": [
    "loan.columns"
   ]
  },
  {
   "cell_type": "code",
   "execution_count": 20,
   "metadata": {},
   "outputs": [],
   "source": [
    "def to_dummy(data):\n",
    "    ty=data.dtypes\n",
    "    cat=[]\n",
    "    for i in range(0,len(data.columns)):\n",
    "        if(ty[i]=='object'):\n",
    "            data.iloc[:,i]=data.iloc[:,i].astype('category')\n",
    "    data=pd.get_dummies(data,drop_first=True)\n",
    "    return(data)"
   ]
  },
  {
   "cell_type": "code",
   "execution_count": 19,
   "metadata": {},
   "outputs": [],
   "source": [
    "loan=to_dummy(loan)"
   ]
  },
  {
   "cell_type": "code",
   "execution_count": 4,
   "metadata": {},
   "outputs": [],
   "source": [
    "#splitting\n",
    "sp=test['AVERAGE.ACCT.AGE'].str.split('yrs',n=1,expand=True)\n",
    "#calculating days in years\n",
    "sp_yr=sp.iloc[:,0]\n",
    "sp_yr=sp_yr.astype('int64')\n",
    "sp_yr=sp_yr*365.25\n",
    "sp_yr=sp_yr.astype('int64')\n",
    "#calculating days in months\n",
    "sp_mon=sp.iloc[:,1].str.split('mon',n=1,expand=True).iloc[:,0]\n",
    "sp_mon=sp_mon.astype('int64')\n",
    "sp_mon=sp_mon*30.5\n",
    "sp_mon=sp_mon.astype('int64')\n",
    "#summing\n",
    "mod=sp_yr+sp_mon\n",
    "#replacing\n",
    "test['AVERAGE.ACCT.AGE']=mod"
   ]
  },
  {
   "cell_type": "code",
   "execution_count": 5,
   "metadata": {},
   "outputs": [],
   "source": [
    "#splitting\n",
    "sp=test['CREDIT.HISTORY.LENGTH'].str.split('yrs',n=1,expand=True)\n",
    "#calculating days in years\n",
    "sp_yr=sp.iloc[:,0]\n",
    "sp_yr=sp_yr.astype('int64')\n",
    "sp_yr=sp_yr*365.25\n",
    "sp_yr=sp_yr.astype('int64')\n",
    "#calculating days in months\n",
    "sp_mon=sp.iloc[:,1].str.split('mon',n=1,expand=True).iloc[:,0]\n",
    "sp_mon=sp_mon.astype('int64')\n",
    "sp_mon=sp_mon*30.5\n",
    "sp_mon=sp_mon.astype('int64')\n",
    "#summing\n",
    "mod=sp_yr+sp_mon\n",
    "#replacing\n",
    "test['CREDIT.HISTORY.LENGTH']=mod"
   ]
  },
  {
   "cell_type": "code",
   "execution_count": 7,
   "metadata": {},
   "outputs": [],
   "source": [
    "test['Date.of.Birth']=pd.to_datetime(test['Date.of.Birth'])\n",
    "test['DisbursalDate']=pd.to_datetime(test['DisbursalDate'])\n",
    "ch=test['DisbursalDate']-test['Date.of.Birth']\n",
    "ch=ch/dt.timedelta(days=365)   \n",
    "test.insert(7,'Age',ch)\n",
    "test['Age']=abs(test['Age'])"
   ]
  },
  {
   "cell_type": "code",
   "execution_count": 8,
   "metadata": {},
   "outputs": [],
   "source": [
    "test.drop(['UniqueID','Date.of.Birth','DisbursalDate','MobileNo_Avl_Flag'],axis=1,inplace=True)"
   ]
  },
  {
   "cell_type": "code",
   "execution_count": 9,
   "metadata": {},
   "outputs": [
    {
     "data": {
      "text/plain": [
       "(112392, 37)"
      ]
     },
     "execution_count": 9,
     "metadata": {},
     "output_type": "execute_result"
    }
   ],
   "source": [
    "test.shape"
   ]
  },
  {
   "cell_type": "code",
   "execution_count": 12,
   "metadata": {},
   "outputs": [
    {
     "name": "stdout",
     "output_type": "stream",
     "text": [
      "0.0\n",
      "Number of columns removed for processing is 1\n"
     ]
    },
    {
     "name": "stderr",
     "output_type": "stream",
     "text": [
      "C:\\Users\\LENOVO\\Anaconda3\\lib\\site-packages\\pandas\\core\\indexing.py:543: SettingWithCopyWarning: \n",
      "A value is trying to be set on a copy of a slice from a DataFrame.\n",
      "Try using .loc[row_indexer,col_indexer] = value instead\n",
      "\n",
      "See the caveats in the documentation: http://pandas.pydata.org/pandas-docs/stable/indexing.html#indexing-view-versus-copy\n",
      "  self.obj[item] = s\n"
     ]
    },
    {
     "name": "stdout",
     "output_type": "stream",
     "text": [
      "1.0\n",
      "Number of columns removed for processing is 1\n"
     ]
    },
    {
     "name": "stderr",
     "output_type": "stream",
     "text": [
      "C:\\Users\\LENOVO\\Anaconda3\\lib\\site-packages\\pandas\\core\\indexing.py:543: SettingWithCopyWarning: \n",
      "A value is trying to be set on a copy of a slice from a DataFrame.\n",
      "Try using .loc[row_indexer,col_indexer] = value instead\n",
      "\n",
      "See the caveats in the documentation: http://pandas.pydata.org/pandas-docs/stable/indexing.html#indexing-view-versus-copy\n",
      "  self.obj[item] = s\n"
     ]
    },
    {
     "name": "stdout",
     "output_type": "stream",
     "text": [
      "2.0\n",
      "Number of columns removed for processing is 1\n"
     ]
    },
    {
     "name": "stderr",
     "output_type": "stream",
     "text": [
      "C:\\Users\\LENOVO\\Anaconda3\\lib\\site-packages\\pandas\\core\\indexing.py:543: SettingWithCopyWarning: \n",
      "A value is trying to be set on a copy of a slice from a DataFrame.\n",
      "Try using .loc[row_indexer,col_indexer] = value instead\n",
      "\n",
      "See the caveats in the documentation: http://pandas.pydata.org/pandas-docs/stable/indexing.html#indexing-view-versus-copy\n",
      "  self.obj[item] = s\n"
     ]
    },
    {
     "name": "stdout",
     "output_type": "stream",
     "text": [
      "3.0\n",
      "Number of columns removed for processing is 1\n"
     ]
    },
    {
     "name": "stderr",
     "output_type": "stream",
     "text": [
      "C:\\Users\\LENOVO\\Anaconda3\\lib\\site-packages\\pandas\\core\\indexing.py:543: SettingWithCopyWarning: \n",
      "A value is trying to be set on a copy of a slice from a DataFrame.\n",
      "Try using .loc[row_indexer,col_indexer] = value instead\n",
      "\n",
      "See the caveats in the documentation: http://pandas.pydata.org/pandas-docs/stable/indexing.html#indexing-view-versus-copy\n",
      "  self.obj[item] = s\n"
     ]
    },
    {
     "name": "stdout",
     "output_type": "stream",
     "text": [
      "4.0\n",
      "Number of columns removed for processing is 1\n"
     ]
    },
    {
     "name": "stderr",
     "output_type": "stream",
     "text": [
      "C:\\Users\\LENOVO\\Anaconda3\\lib\\site-packages\\pandas\\core\\indexing.py:543: SettingWithCopyWarning: \n",
      "A value is trying to be set on a copy of a slice from a DataFrame.\n",
      "Try using .loc[row_indexer,col_indexer] = value instead\n",
      "\n",
      "See the caveats in the documentation: http://pandas.pydata.org/pandas-docs/stable/indexing.html#indexing-view-versus-copy\n",
      "  self.obj[item] = s\n"
     ]
    },
    {
     "name": "stdout",
     "output_type": "stream",
     "text": [
      "5.0\n",
      "Number of columns removed for processing is 1\n"
     ]
    },
    {
     "name": "stderr",
     "output_type": "stream",
     "text": [
      "C:\\Users\\LENOVO\\Anaconda3\\lib\\site-packages\\pandas\\core\\indexing.py:543: SettingWithCopyWarning: \n",
      "A value is trying to be set on a copy of a slice from a DataFrame.\n",
      "Try using .loc[row_indexer,col_indexer] = value instead\n",
      "\n",
      "See the caveats in the documentation: http://pandas.pydata.org/pandas-docs/stable/indexing.html#indexing-view-versus-copy\n",
      "  self.obj[item] = s\n"
     ]
    },
    {
     "name": "stdout",
     "output_type": "stream",
     "text": [
      "6.0\n",
      "Number of columns removed for processing is 1\n"
     ]
    },
    {
     "name": "stderr",
     "output_type": "stream",
     "text": [
      "C:\\Users\\LENOVO\\Anaconda3\\lib\\site-packages\\pandas\\core\\indexing.py:543: SettingWithCopyWarning: \n",
      "A value is trying to be set on a copy of a slice from a DataFrame.\n",
      "Try using .loc[row_indexer,col_indexer] = value instead\n",
      "\n",
      "See the caveats in the documentation: http://pandas.pydata.org/pandas-docs/stable/indexing.html#indexing-view-versus-copy\n",
      "  self.obj[item] = s\n"
     ]
    },
    {
     "name": "stdout",
     "output_type": "stream",
     "text": [
      "7.0\n",
      "Number of columns removed for processing is 1\n"
     ]
    },
    {
     "name": "stderr",
     "output_type": "stream",
     "text": [
      "C:\\Users\\LENOVO\\Anaconda3\\lib\\site-packages\\pandas\\core\\indexing.py:543: SettingWithCopyWarning: \n",
      "A value is trying to be set on a copy of a slice from a DataFrame.\n",
      "Try using .loc[row_indexer,col_indexer] = value instead\n",
      "\n",
      "See the caveats in the documentation: http://pandas.pydata.org/pandas-docs/stable/indexing.html#indexing-view-versus-copy\n",
      "  self.obj[item] = s\n"
     ]
    },
    {
     "name": "stdout",
     "output_type": "stream",
     "text": [
      "8.0\n",
      "Number of columns removed for processing is 1\n"
     ]
    },
    {
     "name": "stderr",
     "output_type": "stream",
     "text": [
      "C:\\Users\\LENOVO\\Anaconda3\\lib\\site-packages\\pandas\\core\\indexing.py:543: SettingWithCopyWarning: \n",
      "A value is trying to be set on a copy of a slice from a DataFrame.\n",
      "Try using .loc[row_indexer,col_indexer] = value instead\n",
      "\n",
      "See the caveats in the documentation: http://pandas.pydata.org/pandas-docs/stable/indexing.html#indexing-view-versus-copy\n",
      "  self.obj[item] = s\n"
     ]
    },
    {
     "name": "stdout",
     "output_type": "stream",
     "text": [
      "9.0\n",
      "Number of columns removed for processing is 1\n"
     ]
    },
    {
     "name": "stderr",
     "output_type": "stream",
     "text": [
      "C:\\Users\\LENOVO\\Anaconda3\\lib\\site-packages\\pandas\\core\\indexing.py:543: SettingWithCopyWarning: \n",
      "A value is trying to be set on a copy of a slice from a DataFrame.\n",
      "Try using .loc[row_indexer,col_indexer] = value instead\n",
      "\n",
      "See the caveats in the documentation: http://pandas.pydata.org/pandas-docs/stable/indexing.html#indexing-view-versus-copy\n",
      "  self.obj[item] = s\n"
     ]
    },
    {
     "name": "stdout",
     "output_type": "stream",
     "text": [
      "10.0\n",
      "Number of columns removed for processing is 1\n"
     ]
    },
    {
     "name": "stderr",
     "output_type": "stream",
     "text": [
      "C:\\Users\\LENOVO\\Anaconda3\\lib\\site-packages\\pandas\\core\\indexing.py:543: SettingWithCopyWarning: \n",
      "A value is trying to be set on a copy of a slice from a DataFrame.\n",
      "Try using .loc[row_indexer,col_indexer] = value instead\n",
      "\n",
      "See the caveats in the documentation: http://pandas.pydata.org/pandas-docs/stable/indexing.html#indexing-view-versus-copy\n",
      "  self.obj[item] = s\n"
     ]
    }
   ],
   "source": [
    "data=[]\n",
    "data=pd.DataFrame(data)\n",
    "for i in range(0,110000,10000):\n",
    "    print(i/10000)\n",
    "    data1=KNN(test.iloc[i:i+10000,:],3)\n",
    "    data=pd.concat([data,data1],axis=0)"
   ]
  },
  {
   "cell_type": "code",
   "execution_count": 13,
   "metadata": {},
   "outputs": [
    {
     "name": "stdout",
     "output_type": "stream",
     "text": [
      "Number of columns removed for processing is 1\n"
     ]
    },
    {
     "name": "stderr",
     "output_type": "stream",
     "text": [
      "C:\\Users\\LENOVO\\Anaconda3\\lib\\site-packages\\pandas\\core\\indexing.py:543: SettingWithCopyWarning: \n",
      "A value is trying to be set on a copy of a slice from a DataFrame.\n",
      "Try using .loc[row_indexer,col_indexer] = value instead\n",
      "\n",
      "See the caveats in the documentation: http://pandas.pydata.org/pandas-docs/stable/indexing.html#indexing-view-versus-copy\n",
      "  self.obj[item] = s\n"
     ]
    }
   ],
   "source": [
    "data1=KNN(test.iloc[110000:112392],3)"
   ]
  },
  {
   "cell_type": "code",
   "execution_count": 14,
   "metadata": {},
   "outputs": [],
   "source": [
    "data=pd.concat([data,data1],axis=0)"
   ]
  },
  {
   "cell_type": "code",
   "execution_count": 15,
   "metadata": {},
   "outputs": [
    {
     "data": {
      "text/plain": [
       "(112392, 37)"
      ]
     },
     "execution_count": 15,
     "metadata": {},
     "output_type": "execute_result"
    }
   ],
   "source": [
    "data.shape"
   ]
  },
  {
   "cell_type": "code",
   "execution_count": 16,
   "metadata": {},
   "outputs": [],
   "source": [
    "test=data"
   ]
  },
  {
   "cell_type": "code",
   "execution_count": 18,
   "metadata": {},
   "outputs": [],
   "source": [
    "test.to_csv('test_c')"
   ]
  },
  {
   "cell_type": "code",
   "execution_count": 21,
   "metadata": {},
   "outputs": [],
   "source": [
    "test=to_dummy(test)"
   ]
  },
  {
   "cell_type": "code",
   "execution_count": 22,
   "metadata": {},
   "outputs": [
    {
     "data": {
      "text/plain": [
       "(112392, 54)"
      ]
     },
     "execution_count": 22,
     "metadata": {},
     "output_type": "execute_result"
    }
   ],
   "source": [
    "test.shape"
   ]
  },
  {
   "cell_type": "code",
   "execution_count": 25,
   "metadata": {},
   "outputs": [
    {
     "data": {
      "text/plain": [
       "(10000, 55)"
      ]
     },
     "execution_count": 25,
     "metadata": {},
     "output_type": "execute_result"
    }
   ],
   "source": [
    "x.shape"
   ]
  },
  {
   "cell_type": "code",
   "execution_count": 40,
   "metadata": {},
   "outputs": [],
   "source": [
    "# splitting data\n",
    "y=loan.loc[:,'loan_default']\n",
    "x=loan.iloc[:,:]\n",
    "x=x.drop(['loan_default'],axis=1)"
   ]
  },
  {
   "cell_type": "code",
   "execution_count": 36,
   "metadata": {},
   "outputs": [],
   "source": [
    "def same_col(train,test):\n",
    "    train_c=train.columns\n",
    "    test_c=test.columns\n",
    "    for i in range(0,train.shape[1]):\n",
    "        flag=0\n",
    "        for j in range(0,test.shape[1]):\n",
    "            if(train_c[i]==test_c[j]):\n",
    "                flag=1\n",
    "        if(flag==0):\n",
    "            train=train.drop([train_c[i]],axis=1)\n",
    "            print(train_c[i])\n",
    "    return(train)  "
   ]
  },
  {
   "cell_type": "code",
   "execution_count": 41,
   "metadata": {},
   "outputs": [
    {
     "name": "stdout",
     "output_type": "stream",
     "text": [
      "PERFORM_CNS.SCORE.DESCRIPTION_Not Scored: More than 50 active Accounts found\n"
     ]
    }
   ],
   "source": [
    "x=same_col(x,test)"
   ]
  },
  {
   "cell_type": "code",
   "execution_count": 42,
   "metadata": {},
   "outputs": [
    {
     "name": "stdout",
     "output_type": "stream",
     "text": [
      "TEST DATA confusion matrix \n",
      "\n",
      "        Actual 0  Actual 1\n",
      "pred 0      5575       473\n",
      "pred 1     40075     12166\n",
      "\n",
      "\n",
      "TRAIN DATA confusion matrix \n",
      "\n",
      "        Actual 0  Actual 1\n",
      "pred 0     17567       722\n",
      "pred 1    119326     37250\n"
     ]
    },
    {
     "data": {
      "text/html": [
       "<div>\n",
       "<style scoped>\n",
       "    .dataframe tbody tr th:only-of-type {\n",
       "        vertical-align: middle;\n",
       "    }\n",
       "\n",
       "    .dataframe tbody tr th {\n",
       "        vertical-align: top;\n",
       "    }\n",
       "\n",
       "    .dataframe thead th {\n",
       "        text-align: right;\n",
       "    }\n",
       "</style>\n",
       "<table border=\"1\" class=\"dataframe\">\n",
       "  <thead>\n",
       "    <tr style=\"text-align: right;\">\n",
       "      <th></th>\n",
       "      <th>test</th>\n",
       "      <th>train</th>\n",
       "    </tr>\n",
       "  </thead>\n",
       "  <tbody>\n",
       "    <tr>\n",
       "      <th>Accuracy</th>\n",
       "      <td>0.304363</td>\n",
       "      <td>0.313482</td>\n",
       "    </tr>\n",
       "    <tr>\n",
       "      <th>Precision</th>\n",
       "      <td>0.962576</td>\n",
       "      <td>0.980986</td>\n",
       "    </tr>\n",
       "    <tr>\n",
       "      <th>Recall</th>\n",
       "      <td>0.232882</td>\n",
       "      <td>0.237904</td>\n",
       "    </tr>\n",
       "    <tr>\n",
       "      <th>F1-Score</th>\n",
       "      <td>0.375031</td>\n",
       "      <td>0.382939</td>\n",
       "    </tr>\n",
       "    <tr>\n",
       "      <th>AUC</th>\n",
       "      <td>0.660085</td>\n",
       "      <td>0.720486</td>\n",
       "    </tr>\n",
       "  </tbody>\n",
       "</table>\n",
       "</div>"
      ],
      "text/plain": [
       "               test     train\n",
       "Accuracy   0.304363  0.313482\n",
       "Precision  0.962576  0.980986\n",
       "Recall     0.232882  0.237904\n",
       "F1-Score   0.375031  0.382939\n",
       "AUC        0.660085  0.720486"
      ]
     },
     "execution_count": 42,
     "metadata": {},
     "output_type": "execute_result"
    },
    {
     "data": {
      "image/png": "[encoded data removed]",
      "text/plain": [
       "<Figure size 432x288 with 1 Axes>"
      ]
     },
     "metadata": {
      "needs_background": "light"
     },
     "output_type": "display_data"
    }
   ],
   "source": [
    "from sklearn.model_selection import train_test_split\n",
    "from sklearn.metrics import confusion_matrix\n",
    "from xgboost import XGBClassifier\n",
    "from sklearn.metrics import roc_curve\n",
    "from sklearn.metrics import roc_auc_score\n",
    "test_accuracy=[]\n",
    "test_precision=[]\n",
    "test_recall=[]\n",
    "test_f1_score=[]\n",
    "test_auc=[]\n",
    "train_accuracy=[]\n",
    "train_precision=[]\n",
    "train_recall=[]\n",
    "train_f1_score=[]\n",
    "train_auc=[]\n",
    "\n",
    "for i in range(0,1):\n",
    "    #sampling\n",
    "    x_train,x_test,y_train,y_test=train_test_split(x,y,test_size=0.25,random_state=100)\n",
    "    #building model                                                       #adjusting parameters to reduce overfitting\n",
    "    model=XGBClassifier(max_depth=7,learning_rate=0.1,n_estimators=100,silent=True,gamma=7,subsample=1,colsample_bytree=1,colsample_bylevel=0.8,)\n",
    "    model.fit(x_train,y_train)\n",
    "    #predicting results for test\n",
    "    #pred=model.predict(x_test)\n",
    "    pred_p=model.predict_proba(x_test)\n",
    "    pred_p=pred_p[:,1]\n",
    "    pred=(pred_p>0.1).astype('int64')\n",
    "    #creating confision matrix\n",
    "    cm=confusion_matrix(pred,y_test, labels=None, sample_weight=None)\n",
    "    #calculating the performance paramters for test data\n",
    "    test_accuracy.append((cm[0,0]+cm[1,1])/(cm[0,1]+cm[1,0]+cm[0,0]+cm[1,1]))\n",
    "    test_precision.append(cm[1,1]/(cm[1,1]+cm[0,1]))\n",
    "    test_recall.append(cm[1,1]/(cm[1,1]+cm[1,0]))\n",
    "    test_f1_score.append((2*test_precision[i]*test_recall[i])/(test_precision[i]+test_recall[i]))\n",
    "    test_auc.append(roc_auc_score(y_test, pred_p))\n",
    "    fpr, tpr, thresholds = roc_curve(y_test, pred_p)\n",
    "    #plt.title('TEST DATA')\n",
    "    #p=plt.plot(fpr, tpr, marker='.')\n",
    "    #predicting results for train\n",
    "    #pred=model.predict(x_train)\n",
    "    pred_p=model.predict_proba(x_train)\n",
    "    pred_p=pred_p[:,1]\n",
    "    pred=(pred_p>0.1).astype('int64')\n",
    "    #creating confision matrix\n",
    "    cm1=confusion_matrix(pred,y_train, labels=None, sample_weight=None)\n",
    "    #calculating the performance paramters for train data\n",
    "    train_accuracy.append((cm1[0,0]+cm1[1,1])/(cm1[0,1]+cm1[1,0]+cm1[0,0]+cm1[1,1]))\n",
    "    train_precision.append(cm1[1,1]/(cm1[1,1]+cm1[0,1]))\n",
    "    train_recall.append(cm1[1,1]/(cm1[1,1]+cm1[1,0]))\n",
    "    train_f1_score.append((2*train_precision[i]*train_recall[i])/(train_precision[i]+train_recall[i]))\n",
    "    train_auc.append(roc_auc_score(y_train, pred_p))\n",
    "    #fpr, tpr, thresholds = roc_curve(y_train, pred_p)\n",
    "    plt.title('TEST DATA')\n",
    "    plt.plot(fpr, tpr, marker='.')\n",
    "    \n",
    "test_p=[np.mean(test_accuracy),np.mean(test_precision),np.mean(test_recall),np.mean(test_f1_score),np.mean(test_auc)]\n",
    "train_p=[np.mean(train_accuracy),np.mean(train_precision),np.mean(train_recall),np.mean(train_f1_score),np.mean(train_auc)]\n",
    "\n",
    "test_p=pd.DataFrame(test_p)\n",
    "train_p=pd.DataFrame(train_p)\n",
    "result=pd.concat([test_p,train_p],axis=1)\n",
    "result.columns=['test','train']\n",
    "result.index=['Accuracy','Precision','Recall','F1-Score','AUC']\n",
    "cm=pd.DataFrame(cm)\n",
    "cm.columns=['Actual 0','Actual 1']\n",
    "cm.index=['pred 0','pred 1']\n",
    "cm1=pd.DataFrame(cm1)\n",
    "cm1.columns=['Actual 0','Actual 1']\n",
    "cm1.index=['pred 0','pred 1']\n",
    "print('TEST DATA confusion matrix \\n')\n",
    "print(cm)\n",
    "print('\\n')\n",
    "print('TRAIN DATA confusion matrix \\n')\n",
    "print(cm1)\n",
    "result\n",
    "\n",
    "   "
   ]
  }
 ],
 "metadata": {
  "kernelspec": {
   "display_name": "Python 3",
   "language": "python",
   "name": "python3"
  },
  "language_info": {
   "codemirror_mode": {
    "name": "ipython",
    "version": 3
   },
   "file_extension": ".py",
   "mimetype": "text/x-python",
   "name": "python",
   "nbconvert_exporter": "python",
   "pygments_lexer": "ipython3",
   "version": "3.6.8"
  }
 },
 "nbformat": 4,
 "nbformat_minor": 2
}
