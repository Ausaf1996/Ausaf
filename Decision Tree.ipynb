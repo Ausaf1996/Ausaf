{
 "cells": [
  {
   "cell_type": "markdown",
   "metadata": {},
   "source": [
    "http://www.bogotobogo.com/python/scikit-learn/scikt_machine_learning_Decision_Tree_Learning_Informatioin_Gain_IG_Impurity_Entropy_Gini_Classification_Error.php\n",
    "\n",
    "\n",
    "Impurity - Entropy & Gini\n",
    "There are three commonly used impurity measures used in binary decision trees: Entropy, Gini index, and Classification Error.\n",
    "\n",
    "Entropy (a way to measure impurity):\n",
    "\n",
    "Entropy=−∑jpjlog2pj\n",
    "\n",
    "Gini index (a criterion to minimize the probability of misclassification):\n",
    "\n",
    "Gini=1−∑jp2j"
   ]
  },
  {
   "cell_type": "code",
   "execution_count": null,
   "metadata": {},
   "outputs": [],
   "source": []
  }
 ],
 "metadata": {
  "kernelspec": {
   "display_name": "Python 3",
   "language": "python",
   "name": "python3"
  },
  "language_info": {
   "codemirror_mode": {
    "name": "ipython",
    "version": 3
   },
   "file_extension": ".py",
   "mimetype": "text/x-python",
   "name": "python",
   "nbconvert_exporter": "python",
   "pygments_lexer": "ipython3",
   "version": "3.6.4"
  }
 },
 "nbformat": 4,
 "nbformat_minor": 2
}
